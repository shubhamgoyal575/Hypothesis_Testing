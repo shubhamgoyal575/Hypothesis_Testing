{
 "cells": [
  {
   "cell_type": "markdown",
   "id": "6be1b55d-f366-4bb7-a81a-bd1ff7713ab3",
   "metadata": {},
   "source": [
    "<div align='center'> <h1>Hypothesis Testing</h1></div>\n",
    "<div align='center'> <h3>Problem Statement</h3></div>\n",
    "\n",
    "**Part A**\n",
    "Six different machines are being considered for use in manufacturing rubber seals. The machines are being compared with respect to tensile strength of the product. A random sample of four seals from each machine is used to determine whether the mean tensile strength varies from machine to machine. In the Data.xlsx (Sheet Part A) file you find the tensile-strength measurements in kilograms per square centimeter \n",
    "Perform the analysis of variance at the 0.05 level of significance and indicate whether or not the mean tensile strengths differ significantly for the six machines.\n",
    " \n",
    "**Part B**\n",
    "Please refer to the file Data.xlsx (Sheet Part A) for this part.\n",
    "A study measured the sorption (either absorption or adsorption) rates of three different types of organic chemical solvents. These solvents are used to clean industrial fabricated-metal parts and are potentially hazardous waste. Independent samples from each type of solvent were tested, and their sorption rates were recorded as a mole percentage.  Is there a significant difference in the mean sorption rates for the three solvents? Use a P-value for your conclusions. Which solvent would you use? "
   ]
  },
  {
   "cell_type": "code",
   "execution_count": 11,
   "id": "941c65c7-933d-4f70-8d01-5fe4956d6f53",
   "metadata": {},
   "outputs": [],
   "source": [
    "# Importing Libraries\n",
    "import pandas as pd\n",
    "import numpy as np\n",
    "import matplotlib.pyplot as plt\n",
    "import seaborn as sns\n",
    "\n",
    "# for hypothesis testing\n",
    "import scipy.stats as st"
   ]
  },
  {
   "cell_type": "code",
   "execution_count": 13,
   "id": "dcb03784-7e85-4cea-af77-5eeef66adce7",
   "metadata": {},
   "outputs": [
    {
     "data": {
      "text/plain": [
       "['Part A', 'Part B']"
      ]
     },
     "execution_count": 13,
     "metadata": {},
     "output_type": "execute_result"
    }
   ],
   "source": [
    "# Getting all sheet from excel file\n",
    "df1=pd.ExcelFile('Data.xlsx')\n",
    "sheet_name=df1.sheet_names\n",
    "sheet_name"
   ]
  },
  {
   "cell_type": "markdown",
   "id": "c7da8b2f-9174-4cff-a8eb-72179f4097c6",
   "metadata": {},
   "source": [
    "# Part A"
   ]
  },
  {
   "cell_type": "code",
   "execution_count": 16,
   "id": "f68fb574-0015-4285-8acc-52e519fa0d6a",
   "metadata": {},
   "outputs": [
    {
     "data": {
      "text/html": [
       "<div>\n",
       "<style scoped>\n",
       "    .dataframe tbody tr th:only-of-type {\n",
       "        vertical-align: middle;\n",
       "    }\n",
       "\n",
       "    .dataframe tbody tr th {\n",
       "        vertical-align: top;\n",
       "    }\n",
       "\n",
       "    .dataframe thead th {\n",
       "        text-align: right;\n",
       "    }\n",
       "</style>\n",
       "<table border=\"1\" class=\"dataframe\">\n",
       "  <thead>\n",
       "    <tr style=\"text-align: right;\">\n",
       "      <th></th>\n",
       "      <th>Machine</th>\n",
       "      <th>Measurement</th>\n",
       "    </tr>\n",
       "  </thead>\n",
       "  <tbody>\n",
       "    <tr>\n",
       "      <th>19</th>\n",
       "      <td>5</td>\n",
       "      <td>21</td>\n",
       "    </tr>\n",
       "    <tr>\n",
       "      <th>20</th>\n",
       "      <td>6</td>\n",
       "      <td>18</td>\n",
       "    </tr>\n",
       "    <tr>\n",
       "      <th>21</th>\n",
       "      <td>6</td>\n",
       "      <td>16</td>\n",
       "    </tr>\n",
       "    <tr>\n",
       "      <th>22</th>\n",
       "      <td>6</td>\n",
       "      <td>18</td>\n",
       "    </tr>\n",
       "    <tr>\n",
       "      <th>23</th>\n",
       "      <td>6</td>\n",
       "      <td>20</td>\n",
       "    </tr>\n",
       "  </tbody>\n",
       "</table>\n",
       "</div>"
      ],
      "text/plain": [
       "    Machine  Measurement\n",
       "19        5           21\n",
       "20        6           18\n",
       "21        6           16\n",
       "22        6           18\n",
       "23        6           20"
      ]
     },
     "execution_count": 16,
     "metadata": {},
     "output_type": "execute_result"
    }
   ],
   "source": [
    "# By default Part A is seleted while reading excel file\n",
    "df=pd.read_excel('Data.xlsx')\n",
    "df.tail()"
   ]
  },
  {
   "cell_type": "code",
   "execution_count": 18,
   "id": "065d7c24-20ea-49fb-b7bb-e62645fa6e49",
   "metadata": {},
   "outputs": [
    {
     "name": "stdout",
     "output_type": "stream",
     "text": [
      "<class 'pandas.core.frame.DataFrame'>\n",
      "RangeIndex: 24 entries, 0 to 23\n",
      "Data columns (total 2 columns):\n",
      " #   Column       Non-Null Count  Dtype\n",
      "---  ------       --------------  -----\n",
      " 0   Machine      24 non-null     int64\n",
      " 1   Measurement  24 non-null     int64\n",
      "dtypes: int64(2)\n",
      "memory usage: 516.0 bytes\n"
     ]
    }
   ],
   "source": [
    "df.info()"
   ]
  },
  {
   "cell_type": "markdown",
   "id": "146deba5-d887-4c55-a1d9-0a96c1bc2955",
   "metadata": {},
   "source": [
    "## Hypothesis Testing"
   ]
  },
  {
   "cell_type": "markdown",
   "id": "c04f74d2-ad9c-4b58-a23d-660bc21761f0",
   "metadata": {},
   "source": [
    "\n",
    "**H0 :** The mean tensile strength of all six machine is same.\n",
    "\n",
    "**H1 :** The mean tensile strength of all six machine is different."
   ]
  },
  {
   "cell_type": "code",
   "execution_count": 22,
   "id": "2e3e8877-43ac-46f2-bc7b-e1d6198a6b82",
   "metadata": {},
   "outputs": [
    {
     "name": "stdout",
     "output_type": "stream",
     "text": [
      "machines :  [1 2 3 4 5 6]\n",
      "sample created for diff machines successfully\n",
      "f_test :  0.4363636363636363 \n",
      "p_value : 0.8173294233639146\n",
      " \n",
      "***CONCLUSION***\n",
      " WE FAILED TO REJECT THE NULL HYPOTHESIS\n"
     ]
    }
   ],
   "source": [
    "alpha = 0.05\n",
    "\n",
    "# getting all machines\n",
    "machines=df['Machine'].unique()\n",
    "print(\"machines : \",machines)\n",
    "\n",
    "# separating all the data based on machine\n",
    "sample1=df[df['Machine']==1]\n",
    "sample2=df[df['Machine']==2]\n",
    "sample3=df[df['Machine']==3]\n",
    "sample4=df[df['Machine']==4]\n",
    "sample5=df[df['Machine']==5]\n",
    "sample6=df[df['Machine']==6]\n",
    "print(\"sample created for diff machines successfully\")\n",
    "\n",
    "# applying Annova test \n",
    "f_test,p_value=st.f_oneway(sample1['Measurement'],sample2['Measurement'],sample3['Measurement'],sample4['Measurement'],sample5['Measurement'],\n",
    "                           sample6['Measurement'])\n",
    "print('f_test : ',f_test,'\\np_value :',p_value)\n",
    "\n",
    "# Checking for pvalues \n",
    "print('','\\n***CONCLUSION***')\n",
    "if p_value < 0.05:\n",
    "    print('WE REJECT THE NULL HYPOTHESIS')\n",
    "else:\n",
    "    print(' WE FAILED TO REJECT THE NULL HYPOTHESIS')\n"
   ]
  },
  {
   "cell_type": "markdown",
   "id": "da5e0e5a-f7f5-45da-8785-31df43c74d7e",
   "metadata": {},
   "source": [
    "#\n",
    "**Conclusion : As we failed to reject the null hypothesis so mean that all six machine has equal tensile strength**\n",
    "\n",
    "#"
   ]
  },
  {
   "cell_type": "markdown",
   "id": "cc491e9d-1c09-4ea5-9266-383a4f496522",
   "metadata": {},
   "source": [
    "# Part B"
   ]
  },
  {
   "cell_type": "code",
   "execution_count": 26,
   "id": "f0727699-6606-4d6d-b46b-94dfe4824f1b",
   "metadata": {},
   "outputs": [
    {
     "data": {
      "text/html": [
       "<div>\n",
       "<style scoped>\n",
       "    .dataframe tbody tr th:only-of-type {\n",
       "        vertical-align: middle;\n",
       "    }\n",
       "\n",
       "    .dataframe tbody tr th {\n",
       "        vertical-align: top;\n",
       "    }\n",
       "\n",
       "    .dataframe thead th {\n",
       "        text-align: right;\n",
       "    }\n",
       "</style>\n",
       "<table border=\"1\" class=\"dataframe\">\n",
       "  <thead>\n",
       "    <tr style=\"text-align: right;\">\n",
       "      <th></th>\n",
       "      <th>Solvent</th>\n",
       "      <th>Samples</th>\n",
       "    </tr>\n",
       "  </thead>\n",
       "  <tbody>\n",
       "    <tr>\n",
       "      <th>0</th>\n",
       "      <td>1</td>\n",
       "      <td>1.06</td>\n",
       "    </tr>\n",
       "    <tr>\n",
       "      <th>1</th>\n",
       "      <td>1</td>\n",
       "      <td>0.79</td>\n",
       "    </tr>\n",
       "    <tr>\n",
       "      <th>2</th>\n",
       "      <td>1</td>\n",
       "      <td>0.82</td>\n",
       "    </tr>\n",
       "    <tr>\n",
       "      <th>3</th>\n",
       "      <td>1</td>\n",
       "      <td>0.89</td>\n",
       "    </tr>\n",
       "    <tr>\n",
       "      <th>4</th>\n",
       "      <td>1</td>\n",
       "      <td>1.05</td>\n",
       "    </tr>\n",
       "  </tbody>\n",
       "</table>\n",
       "</div>"
      ],
      "text/plain": [
       "   Solvent  Samples\n",
       "0        1     1.06\n",
       "1        1     0.79\n",
       "2        1     0.82\n",
       "3        1     0.89\n",
       "4        1     1.05"
      ]
     },
     "execution_count": 26,
     "metadata": {},
     "output_type": "execute_result"
    }
   ],
   "source": [
    "# Loading data from same file 2nd sheet\n",
    "df=pd.read_excel('Data.xlsx',sheet_name='Part B')\n",
    "df.head()"
   ]
  },
  {
   "cell_type": "code",
   "execution_count": 28,
   "id": "042bfb8d-15f6-40b0-90ca-bb0fee12d148",
   "metadata": {},
   "outputs": [
    {
     "data": {
      "text/plain": [
       "(32, 2)"
      ]
     },
     "execution_count": 28,
     "metadata": {},
     "output_type": "execute_result"
    }
   ],
   "source": [
    "df.shape"
   ]
  },
  {
   "cell_type": "code",
   "execution_count": 30,
   "id": "34db7320-9d3e-4707-a45f-b6a0f251e0ae",
   "metadata": {},
   "outputs": [
    {
     "name": "stdout",
     "output_type": "stream",
     "text": [
      "<class 'pandas.core.frame.DataFrame'>\n",
      "RangeIndex: 32 entries, 0 to 31\n",
      "Data columns (total 2 columns):\n",
      " #   Column   Non-Null Count  Dtype  \n",
      "---  ------   --------------  -----  \n",
      " 0   Solvent  32 non-null     int64  \n",
      " 1   Samples  32 non-null     float64\n",
      "dtypes: float64(1), int64(1)\n",
      "memory usage: 644.0 bytes\n"
     ]
    }
   ],
   "source": [
    "df.info()"
   ]
  },
  {
   "cell_type": "markdown",
   "id": "1d4d2582-a928-47ce-8e26-cc2ea5a733cc",
   "metadata": {},
   "source": [
    "## Hypothesis testing\n",
    "**H0 :** The mean sorption rate for all three solvents are same.\n",
    "\n",
    "**H1 :** The mean sorption rate for all three solvents are not same.\n",
    "\n",
    "#"
   ]
  },
  {
   "cell_type": "code",
   "execution_count": 37,
   "id": "29484c9c-cc93-40b8-b1eb-54928699d106",
   "metadata": {},
   "outputs": [
    {
     "name": "stdout",
     "output_type": "stream",
     "text": [
      "P-values for pairwise T-tests: [0.6669822255373288, 2.4369120574820632e-05, 1.7846387388782062e-07, 5.855201452781719e-07]\n"
     ]
    }
   ],
   "source": [
    "# applying Annova test to get the pvalues\n",
    "\n",
    "# Get the unique solvent categories\n",
    "solvent=df['Solvent'].unique()\n",
    "print('solvent list : ',solvent)\n",
    "\n",
    "sample1=df[df['Solvent']==1]\n",
    "sample2=df[df['Solvent']==2]\n",
    "sample3=df[df['Solvent']==3]\n",
    "\n",
    "# Perform pairwise independent T-tests\n",
    "t_test1, p_value1 = st.ttest_ind(sample1['Samples'], sample2['Samples'])  # Group 1 vs Group 2\n",
    "t_test2, p_value2 = st.ttest_ind(sample2['Samples'], sample3['Samples'])  # Group 2 vs Group 3\n",
    "t_test3, p_value3 = st.ttest_ind(sample3['Samples'], sample1['Samples'])  # Group 3 vs Group 1\n",
    "\n",
    "f_test4,p_value4 = st.f_oneway(sample1['Samples'],sample2['Samples'],sample3['Samples'])\n",
    "\n",
    "# Collect p-values\n",
    "pvalues = [p_value1, p_value2, p_value3,p_value4]\n",
    "print(\"P-values for pairwise T-tests:\", pvalues)\n"
   ]
  },
  {
   "cell_type": "code",
   "execution_count": 39,
   "id": "27c2dd20-efd2-4007-86d0-3a60db3c92c9",
   "metadata": {},
   "outputs": [
    {
     "name": "stdout",
     "output_type": "stream",
     "text": [
      " \n",
      "***CONCLUSION***\n",
      "\n",
      "0.6669822255373288\n",
      " WE FAILED TO REJECT THE NULL HYPOTHESIS\n",
      "\n",
      "2.4369120574820632e-05\n",
      "WE REJECT THE NULL HYPOTHESIS\n",
      "\n",
      "1.7846387388782062e-07\n",
      "WE REJECT THE NULL HYPOTHESIS\n",
      "\n",
      "5.855201452781719e-07\n",
      "WE REJECT THE NULL HYPOTHESIS\n"
     ]
    }
   ],
   "source": [
    "# checking for different pvalues \n",
    "print('','\\n***CONCLUSION***')\n",
    "for i in pvalues:\n",
    "    print(f'\\n{i}')\n",
    "    if i < 0.05:\n",
    "        print('WE REJECT THE NULL HYPOTHESIS')\n",
    "    else:\n",
    "        print(' WE FAILED TO REJECT THE NULL HYPOTHESIS')\n"
   ]
  },
  {
   "cell_type": "markdown",
   "id": "4c03243c-d32d-43d2-8728-2b6b5747b146",
   "metadata": {},
   "source": [
    "#\n",
    "**CONCLUSION :** \n",
    "\n",
    "- (sample 2 , sample 3) \n",
    "- (sample 3 , sample 1)  \n",
    "- (sample1 , sample 2 , sample 3)\n",
    "\n",
    "**we reject the null hypothesis.  -> This mean that the mean sorption rate in not same for these.**\n",
    "\n",
    "##\n",
    "\n",
    "(sample 1 and sample 2) \n",
    "\n",
    "**we failed to reject the null hypothesis. -> This mean that only sample 1 and sample 2 has same mean sorption rate**"
   ]
  },
  {
   "cell_type": "code",
   "execution_count": null,
   "id": "8411d025-f83a-463d-8a4e-8018d6e70a6f",
   "metadata": {},
   "outputs": [],
   "source": []
  }
 ],
 "metadata": {
  "kernelspec": {
   "display_name": "Python 3 (ipykernel)",
   "language": "python",
   "name": "python3"
  },
  "language_info": {
   "codemirror_mode": {
    "name": "ipython",
    "version": 3
   },
   "file_extension": ".py",
   "mimetype": "text/x-python",
   "name": "python",
   "nbconvert_exporter": "python",
   "pygments_lexer": "ipython3",
   "version": "3.12.4"
  }
 },
 "nbformat": 4,
 "nbformat_minor": 5
}
