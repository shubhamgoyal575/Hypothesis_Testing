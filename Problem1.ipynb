{
 "cells": [
  {
   "cell_type": "code",
   "execution_count": null,
   "id": "5febd0f6-3c70-4e19-8316-f99e66a0ed39",
   "metadata": {},
   "outputs": [],
   "source": []
  },
  {
   "cell_type": "markdown",
   "id": "793f209e-e7cb-4526-8fb8-c38a9ea00411",
   "metadata": {},
   "source": [
    "<div align='center'> <h1>Hypothesis Testing</h1></div>\n",
    "<div align='center'> <h3>Problem Statement</h3></div>\n",
    "\n",
    "\n",
    "Frank’s Supervisor, Dr. Brown, holds expertise in both mathematical statistics and medical science. He assigned Frank the task of estimating the average reimbursement amount for dental claims in 2021. Due to Healthy Life's extensive client base, calculating the population mean directly is impractical. To tackle this challenge, Frank utilized the Excel Random Number Generator function to obtain a random sample of 49 dental claims from Healthy Life's records. The data provided in the Major Data file section represents the insurance coverage amounts for these selected claims. Please help Frank to construct 90%, 95%, and 99% confidence intervals for the true average reimbursement. Make sure that t-distribution is applicable: build a histogram with the given bin values and check whether it is approximately symmetric and bell-shaped. Then, use Descriptive Statistics function from Data Analysis. Constructing confidence intervals, please round values to at least two decimal places."
   ]
  },
  {
   "cell_type": "code",
   "execution_count": 45,
   "id": "f5d88946-9f00-4fe2-8a48-5984b92e7c72",
   "metadata": {},
   "outputs": [],
   "source": [
    "# Importing Libraries\n",
    "\n",
    "import pandas as pd\n",
    "import numpy as np\n",
    "import matplotlib.pyplot as plt\n",
    "import seaborn as sns\n",
    "\n",
    "# for hypothesis testing\n",
    "import scipy.stats as st\n",
    "\n",
    "import warnings\n",
    "warnings.filterwarnings('ignore')"
   ]
  },
  {
   "cell_type": "code",
   "execution_count": 17,
   "id": "f361dda6-2975-405b-ad6f-27046c8a7359",
   "metadata": {},
   "outputs": [
    {
     "data": {
      "text/html": [
       "<div>\n",
       "<style scoped>\n",
       "    .dataframe tbody tr th:only-of-type {\n",
       "        vertical-align: middle;\n",
       "    }\n",
       "\n",
       "    .dataframe tbody tr th {\n",
       "        vertical-align: top;\n",
       "    }\n",
       "\n",
       "    .dataframe thead th {\n",
       "        text-align: right;\n",
       "    }\n",
       "</style>\n",
       "<table border=\"1\" class=\"dataframe\">\n",
       "  <thead>\n",
       "    <tr style=\"text-align: right;\">\n",
       "      <th></th>\n",
       "      <th></th>\n",
       "      <th>Unnamed: 1</th>\n",
       "      <th>Unnamed: 2</th>\n",
       "    </tr>\n",
       "  </thead>\n",
       "  <tbody>\n",
       "    <tr>\n",
       "      <th>0</th>\n",
       "      <td>NaN</td>\n",
       "      <td>NaN</td>\n",
       "      <td>NaN</td>\n",
       "    </tr>\n",
       "    <tr>\n",
       "      <th>1</th>\n",
       "      <td>NaN</td>\n",
       "      <td>Dental Claim Number</td>\n",
       "      <td>Amount Covered</td>\n",
       "    </tr>\n",
       "    <tr>\n",
       "      <th>2</th>\n",
       "      <td>NaN</td>\n",
       "      <td>1</td>\n",
       "      <td>375.5</td>\n",
       "    </tr>\n",
       "  </tbody>\n",
       "</table>\n",
       "</div>"
      ],
      "text/plain": [
       "                Unnamed: 1      Unnamed: 2\n",
       "0 NaN                  NaN             NaN\n",
       "1 NaN  Dental Claim Number  Amount Covered\n",
       "2 NaN                    1           375.5"
      ]
     },
     "execution_count": 17,
     "metadata": {},
     "output_type": "execute_result"
    }
   ],
   "source": [
    "# Loading Dataset\n",
    "\n",
    "df=pd.read_excel(r'Major Data File.xlsx')\n",
    "df.head(3)"
   ]
  },
  {
   "cell_type": "code",
   "execution_count": 19,
   "id": "30018b64-c26e-4228-ab9c-ab10222063c6",
   "metadata": {},
   "outputs": [
    {
     "name": "stdout",
     "output_type": "stream",
     "text": [
      "<class 'pandas.core.frame.DataFrame'>\n",
      "RangeIndex: 51 entries, 0 to 50\n",
      "Data columns (total 3 columns):\n",
      " #   Column      Non-Null Count  Dtype  \n",
      "---  ------      --------------  -----  \n",
      " 0               0 non-null      float64\n",
      " 1   Unnamed: 1  50 non-null     object \n",
      " 2   Unnamed: 2  50 non-null     object \n",
      "dtypes: float64(1), object(2)\n",
      "memory usage: 1.3+ KB\n"
     ]
    }
   ],
   "source": [
    "df.info()"
   ]
  },
  {
   "cell_type": "code",
   "execution_count": 21,
   "id": "096ff121-2274-44d5-9519-48f2a0e03273",
   "metadata": {},
   "outputs": [
    {
     "data": {
      "text/html": [
       "<div>\n",
       "<style scoped>\n",
       "    .dataframe tbody tr th:only-of-type {\n",
       "        vertical-align: middle;\n",
       "    }\n",
       "\n",
       "    .dataframe tbody tr th {\n",
       "        vertical-align: top;\n",
       "    }\n",
       "\n",
       "    .dataframe thead th {\n",
       "        text-align: right;\n",
       "    }\n",
       "</style>\n",
       "<table border=\"1\" class=\"dataframe\">\n",
       "  <thead>\n",
       "    <tr style=\"text-align: right;\">\n",
       "      <th></th>\n",
       "      <th>Unnamed: 2</th>\n",
       "    </tr>\n",
       "  </thead>\n",
       "  <tbody>\n",
       "    <tr>\n",
       "      <th>0</th>\n",
       "      <td>NaN</td>\n",
       "    </tr>\n",
       "    <tr>\n",
       "      <th>1</th>\n",
       "      <td>Amount Covered</td>\n",
       "    </tr>\n",
       "    <tr>\n",
       "      <th>2</th>\n",
       "      <td>375.5</td>\n",
       "    </tr>\n",
       "    <tr>\n",
       "      <th>3</th>\n",
       "      <td>380</td>\n",
       "    </tr>\n",
       "    <tr>\n",
       "      <th>4</th>\n",
       "      <td>192.75</td>\n",
       "    </tr>\n",
       "  </tbody>\n",
       "</table>\n",
       "</div>"
      ],
      "text/plain": [
       "       Unnamed: 2\n",
       "0             NaN\n",
       "1  Amount Covered\n",
       "2           375.5\n",
       "3             380\n",
       "4          192.75"
      ]
     },
     "execution_count": 21,
     "metadata": {},
     "output_type": "execute_result"
    }
   ],
   "source": [
    "# Selecting only required column\n",
    "df = df[['Unnamed: 2']]\n",
    "df.head()"
   ]
  },
  {
   "cell_type": "code",
   "execution_count": 23,
   "id": "4e6f803a-c91a-4856-899e-e351241dde7b",
   "metadata": {},
   "outputs": [
    {
     "data": {
      "text/html": [
       "<div>\n",
       "<style scoped>\n",
       "    .dataframe tbody tr th:only-of-type {\n",
       "        vertical-align: middle;\n",
       "    }\n",
       "\n",
       "    .dataframe tbody tr th {\n",
       "        vertical-align: top;\n",
       "    }\n",
       "\n",
       "    .dataframe thead th {\n",
       "        text-align: right;\n",
       "    }\n",
       "</style>\n",
       "<table border=\"1\" class=\"dataframe\">\n",
       "  <thead>\n",
       "    <tr style=\"text-align: right;\">\n",
       "      <th></th>\n",
       "      <th>Amount Covered</th>\n",
       "    </tr>\n",
       "  </thead>\n",
       "  <tbody>\n",
       "    <tr>\n",
       "      <th>0</th>\n",
       "      <td>375.5</td>\n",
       "    </tr>\n",
       "    <tr>\n",
       "      <th>1</th>\n",
       "      <td>380</td>\n",
       "    </tr>\n",
       "    <tr>\n",
       "      <th>2</th>\n",
       "      <td>192.75</td>\n",
       "    </tr>\n",
       "    <tr>\n",
       "      <th>3</th>\n",
       "      <td>400</td>\n",
       "    </tr>\n",
       "    <tr>\n",
       "      <th>4</th>\n",
       "      <td>230</td>\n",
       "    </tr>\n",
       "  </tbody>\n",
       "</table>\n",
       "</div>"
      ],
      "text/plain": [
       "  Amount Covered\n",
       "0          375.5\n",
       "1            380\n",
       "2         192.75\n",
       "3            400\n",
       "4            230"
      ]
     },
     "execution_count": 23,
     "metadata": {},
     "output_type": "execute_result"
    }
   ],
   "source": [
    "# Renaming column name and dropping unnecessay columns and rows\n",
    "\n",
    "df.rename(columns={'Unnamed: 2':'Amount Covered'},inplace=True)\n",
    "df.drop([0,1],axis=0,inplace=True)\n",
    "df.reset_index(drop=True, inplace=True)\n",
    "df.head()"
   ]
  },
  {
   "cell_type": "code",
   "execution_count": 25,
   "id": "475eb563-ad22-4c4f-bf16-dc990166e7d2",
   "metadata": {},
   "outputs": [
    {
     "name": "stdout",
     "output_type": "stream",
     "text": [
      "<class 'pandas.core.frame.DataFrame'>\n",
      "RangeIndex: 49 entries, 0 to 48\n",
      "Data columns (total 1 columns):\n",
      " #   Column          Non-Null Count  Dtype \n",
      "---  ------          --------------  ----- \n",
      " 0   Amount Covered  49 non-null     object\n",
      "dtypes: object(1)\n",
      "memory usage: 524.0+ bytes\n"
     ]
    }
   ],
   "source": [
    "df.info()"
   ]
  },
  {
   "cell_type": "code",
   "execution_count": 27,
   "id": "133f4c41-5fb2-4c00-a623-64c6ee5cb5b9",
   "metadata": {},
   "outputs": [
    {
     "name": "stdout",
     "output_type": "stream",
     "text": [
      "<class 'pandas.core.frame.DataFrame'>\n",
      "RangeIndex: 49 entries, 0 to 48\n",
      "Data columns (total 1 columns):\n",
      " #   Column          Non-Null Count  Dtype  \n",
      "---  ------          --------------  -----  \n",
      " 0   Amount Covered  49 non-null     float64\n",
      "dtypes: float64(1)\n",
      "memory usage: 524.0 bytes\n"
     ]
    }
   ],
   "source": [
    "# Changing the data type of Amount Covered so aggregation can be performed on Amount Covered Column\n",
    "\n",
    "df['Amount Covered'] = df['Amount Covered'].astype('float')\n",
    "df.info()"
   ]
  },
  {
   "cell_type": "code",
   "execution_count": 29,
   "id": "ff5f5299-3941-4ff9-8e1f-5c696c0354fb",
   "metadata": {},
   "outputs": [
    {
     "data": {
      "image/png": "[encoded data removed]",
      "text/plain": [
       "<Figure size 1000x400 with 1 Axes>"
      ]
     },
     "metadata": {},
     "output_type": "display_data"
    }
   ],
   "source": [
    "# Plotting amount distribution along with mean median mode value\n",
    "\n",
    "f,ax = plt.subplots(figsize=(10,4))\n",
    "sns.histplot(df['Amount Covered'],bins=30,kde=True,ax=ax)\n",
    "ax.axvline(df['Amount Covered'].mean(),color='red',label ='Mean')\n",
    "ax.axvline(df['Amount Covered'].median(),color='yellow',linestyle='--',label ='Median')\n",
    "ax.axvline(df['Amount Covered'].mode()[0],color='green',linestyle=':',label ='Mode')\n",
    "ax.legend()\n",
    "plt.show()"
   ]
  },
  {
   "cell_type": "markdown",
   "id": "0594927f-a27c-4cab-b4df-0b73c04f96d3",
   "metadata": {},
   "source": [
    "**As we can see there are some outliers in data**"
   ]
  },
  {
   "cell_type": "code",
   "execution_count": 32,
   "id": "401ccb77-f3bc-45b2-bc78-43b9084d5ece",
   "metadata": {},
   "outputs": [
    {
     "data": {
      "text/plain": [
       "count     49.000000\n",
       "mean     283.540816\n",
       "std      128.829530\n",
       "min       98.000000\n",
       "25%      225.000000\n",
       "50%      250.000000\n",
       "75%      340.000000\n",
       "max      950.000000\n",
       "Name: Amount Covered, dtype: float64"
      ]
     },
     "execution_count": 32,
     "metadata": {},
     "output_type": "execute_result"
    }
   ],
   "source": [
    "# Statistics of amount covered\n",
    "\n",
    "df['Amount Covered'].describe()"
   ]
  },
  {
   "cell_type": "markdown",
   "id": "f4103283-02eb-40d5-abdd-bbcf079143a2",
   "metadata": {},
   "source": [
    "##### Outlier Handling"
   ]
  },
  {
   "cell_type": "code",
   "execution_count": 47,
   "id": "55760b81-d3d3-4e15-9df8-7312e5e4c1a2",
   "metadata": {},
   "outputs": [
    {
     "name": "stdout",
     "output_type": "stream",
     "text": [
      "mean 269.65625\n",
      "std 85.45708804000166\n",
      "Q1 220.0\n",
      "Q2 250.0\n",
      "Q3 340.0\n",
      "IQR 120.0\n",
      "lower limit : 40.0\n",
      "upper limit : 520.0\n"
     ]
    }
   ],
   "source": [
    "# fetching mean std 25% 50% 75% using describe function\n",
    "mean=df['Amount Covered'].describe()[1]\n",
    "std=df['Amount Covered'].describe()[2]\n",
    "Q1=df['Amount Covered'].describe()[4]\n",
    "Q2=df['Amount Covered'].describe()[5]\n",
    "Q3=df['Amount Covered'].describe()[6]\n",
    "\n",
    "print('mean',mean)\n",
    "print('std',std)\n",
    "print('Q1',Q1)\n",
    "print('Q2',Q2)\n",
    "print('Q3',Q3)\n",
    "\n",
    "# Calculating Interquatile range\n",
    "IQR = Q3-Q1\n",
    "print('IQR',IQR)\n",
    "\n",
    "# Calculating upper and lower limit of amount covered\n",
    "lower_limit = Q1-1.5*IQR\n",
    "upper_limit = Q3+1.5*IQR\n",
    "print(f\"lower limit : {lower_limit}\\nupper limit : {upper_limit}\")"
   ]
  },
  {
   "cell_type": "code",
   "execution_count": 37,
   "id": "434b78fd-3f75-4756-b907-821d3ecba88f",
   "metadata": {},
   "outputs": [
    {
     "data": {
      "text/html": [
       "<div>\n",
       "<style scoped>\n",
       "    .dataframe tbody tr th:only-of-type {\n",
       "        vertical-align: middle;\n",
       "    }\n",
       "\n",
       "    .dataframe tbody tr th {\n",
       "        vertical-align: top;\n",
       "    }\n",
       "\n",
       "    .dataframe thead th {\n",
       "        text-align: right;\n",
       "    }\n",
       "</style>\n",
       "<table border=\"1\" class=\"dataframe\">\n",
       "  <thead>\n",
       "    <tr style=\"text-align: right;\">\n",
       "      <th></th>\n",
       "      <th>Amount Covered</th>\n",
       "    </tr>\n",
       "  </thead>\n",
       "  <tbody>\n",
       "    <tr>\n",
       "      <th>0</th>\n",
       "      <td>375.50</td>\n",
       "    </tr>\n",
       "    <tr>\n",
       "      <th>1</th>\n",
       "      <td>380.00</td>\n",
       "    </tr>\n",
       "    <tr>\n",
       "      <th>2</th>\n",
       "      <td>192.75</td>\n",
       "    </tr>\n",
       "    <tr>\n",
       "      <th>3</th>\n",
       "      <td>400.00</td>\n",
       "    </tr>\n",
       "    <tr>\n",
       "      <th>4</th>\n",
       "      <td>230.00</td>\n",
       "    </tr>\n",
       "  </tbody>\n",
       "</table>\n",
       "</div>"
      ],
      "text/plain": [
       "   Amount Covered\n",
       "0          375.50\n",
       "1          380.00\n",
       "2          192.75\n",
       "3          400.00\n",
       "4          230.00"
      ]
     },
     "execution_count": 37,
     "metadata": {},
     "output_type": "execute_result"
    }
   ],
   "source": [
    "# fetching data within upper and lower limit \n",
    "df = df[(df['Amount Covered']>lower_limit) & (df['Amount Covered']<upper_limit)]\n",
    "df.head()"
   ]
  },
  {
   "cell_type": "markdown",
   "id": "73606bc0-c7f0-4fbd-b716-d0ae2cbc37e1",
   "metadata": {},
   "source": [
    "#### Hypothesis Testing"
   ]
  },
  {
   "cell_type": "markdown",
   "id": "41874099-9bf7-45d4-998f-776522f980ca",
   "metadata": {},
   "source": [
    "\n",
    "**H0 :** The true average reimbursement amount of dental claims is equal to specific value.\n",
    "\n",
    "**H1 :** The true average reimbursement amount of dental claims is **not** equal to specific value."
   ]
  },
  {
   "cell_type": "code",
   "execution_count": 41,
   "id": "80fc3d59-9bd8-4091-a305-42a47542ef5c",
   "metadata": {},
   "outputs": [
    {
     "name": "stdout",
     "output_type": "stream",
     "text": [
      "alpha value : [0.1, 0.05, 0.01]\n",
      "statistics_value : 0.0\n",
      "p-value : 1.0\n",
      "\n",
      "alpha : 0.1\n",
      "WE FAILED TO REJECT THE NULL HYPOTHESIS\n",
      "\n",
      "alpha : 0.05\n",
      "WE FAILED TO REJECT THE NULL HYPOTHESIS\n",
      "\n",
      "alpha : 0.01\n",
      "WE FAILED TO REJECT THE NULL HYPOTHESIS\n",
      "\n"
     ]
    }
   ],
   "source": [
    "CI=[0.9,0.95,0.99]\n",
    "mean=df['Amount Covered'].mean()\n",
    "alpha=[]\n",
    "for i in CI:\n",
    "    a=1-i\n",
    "    alpha.append(np.round(a,2))\n",
    "print('alpha value :',alpha)\n",
    "\n",
    "# calculating pvalue using t-test(one sample test)\n",
    "statistics_value,pvalue=st.ttest_1samp(df['Amount Covered'],mean)\n",
    "print('statistics_value :' ,statistics_value)\n",
    "print(f\"p-value : {pvalue}\\n\")\n",
    "\n",
    "# Checking for different value of alpha\n",
    "for i in alpha:\n",
    "    print('alpha :',i)\n",
    "    if pvalue< i:\n",
    "            print(\"WE REJECT THE NULL HYPOTHESIS\\n\")\n",
    "    else:\n",
    "        print(\"WE FAILED TO REJECT THE NULL HYPOTHESIS\\n\")"
   ]
  },
  {
   "cell_type": "markdown",
   "id": "552bbe0f-9d5a-4a6d-82b6-0a673fc2034e",
   "metadata": {},
   "source": [
    "**As we failed to reject the Null Hypthesis that mean -> The true average reimbursement amount of dental claims is equal to specific value.**"
   ]
  },
  {
   "cell_type": "code",
   "execution_count": 55,
   "id": "b95dc497-3f49-4e4c-a626-cb240a700937",
   "metadata": {},
   "outputs": [
    {
     "name": "stdout",
     "output_type": "stream",
     "text": [
      "Mean: 269.65625\n",
      "Standard Deviation: Amount Covered    85.457088\n",
      "dtype: float64\n",
      "\n",
      "t-critical value :  1.6779267216418605\n",
      "90% Confidence Interval: (248.96, 290.35)\n",
      "\n",
      "t-critical value :  2.0117405137297655\n",
      "95% Confidence Interval: (244.84, 294.47)\n",
      "\n",
      "t-critical value :  2.6845556178665215\n",
      "99% Confidence Interval: (236.54, 302.77)\n",
      "\n"
     ]
    }
   ],
   "source": [
    "\n",
    "# Calculating mean and std \n",
    "mean = np.mean(df)\n",
    "std_dev = np.std(df, ddof=1)  # Sample standard deviation\n",
    "n = len(df)\n",
    "\n",
    "print(f\"Mean: {mean}\")\n",
    "print(f\"Standard Deviation: {std_dev}\\n\")\n",
    "\n",
    "# Calculating t-critical values for confidence intervals -> 90%, 95%, and 99%\n",
    "confidence_levels = [0.90, 0.95, 0.99]\n",
    "\n",
    "for confidence in confidence_levels:\n",
    "    alpha = 1 - confidence\n",
    "    t_critical = st.t.ppf(1 - alpha / 2, df=n-1)  # t-critical value\n",
    "    print('t-critical value : ',t_critical)\n",
    "    margin_of_error = t_critical * (std_dev / np.sqrt(n))\n",
    "    \n",
    "    lower_bound = mean - margin_of_error\n",
    "    upper_bound = mean + margin_of_error\n",
    "    \n",
    "    print(f\"{int(confidence*100)}% Confidence Interval: ({lower_bound.iloc[0]:.2f}, {upper_bound.iloc[0]:.2f})\\n\")\n",
    "\n"
   ]
  },
  {
   "cell_type": "markdown",
   "id": "e3fa0a8d-9fbb-4ae2-bbd5-6819d2c92c60",
   "metadata": {},
   "source": [
    "##### For higher certainty (e.g. 99%) is required, to get a wider interval, knowing that the population mean is more likely to fall within this range.\n",
    "\n",
    "##### For more precise interval (e.g. 90%) is acceptable, for narrower range but with slightly less confidence."
   ]
  },
  {
   "cell_type": "code",
   "execution_count": null,
   "id": "b692ebb0-2061-4412-964e-a50c6a2ad866",
   "metadata": {},
   "outputs": [],
   "source": []
  }
 ],
 "metadata": {
  "kernelspec": {
   "display_name": "Python 3 (ipykernel)",
   "language": "python",
   "name": "python3"
  },
  "language_info": {
   "codemirror_mode": {
    "name": "ipython",
    "version": 3
   },
   "file_extension": ".py",
   "mimetype": "text/x-python",
   "name": "python",
   "nbconvert_exporter": "python",
   "pygments_lexer": "ipython3",
   "version": "3.12.4"
  }
 },
 "nbformat": 4,
 "nbformat_minor": 5
}
